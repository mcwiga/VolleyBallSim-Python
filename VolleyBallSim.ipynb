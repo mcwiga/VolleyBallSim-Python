{
 "cells": [
  {
   "cell_type": "code",
   "execution_count": 1,
   "metadata": {},
   "outputs": [
    {
     "name": "stdout",
     "output_type": "stream",
     "text": [
      "Populating the interactive namespace from numpy and matplotlib\n"
     ]
    }
   ],
   "source": [
    "%pylab inline"
   ]
  },
  {
   "cell_type": "markdown",
   "metadata": {},
   "source": [
    "# Simulation of scoring systems for Volleyball\n",
    "\n",
    "This lab simulates volleyball matches between two teams. (For more information about the game of volleyball, see e.g. the [Wikipedia page](https://en.wikipedia.org/wiki/Volleyball)).\n",
    "\n",
    "## The match\n",
    "\n",
    "A match consists of a number of sets, best of five sets wins, with no need to play further sets if a team has won three sets.\n",
    "\n",
    "Each set consists of a number of \"rallies\" (a serve with the ensuing play), the system for awarding the points differ between the \"old\" scoring (used until 1999), and the \"new\" scoring (since 1999).\n",
    "\n",
    "## \"New\" scoring\n",
    "1. After each rally a point is awarded to the team who wins the rally.\n",
    "2. The set is played until one team reaches 25 points (and has a two point margin).\n",
    "3. The next rally is served by the team that won the rally.\n",
    "\n",
    "## \"Old scoring\n",
    "1. After a rally, a point is awarded to the serving team if it wins the rally.\n",
    "2. If the serving team loses the rally, no point is awarded. \n",
    "3. The set is won by the first team to get 15 points.\n",
    "4. The next rally is served by the team that won the rally.\n"
   ]
  },
  {
   "cell_type": "markdown",
   "metadata": {},
   "source": [
    "Import random module, and define a helper function for the standard deviation (as usual)."
   ]
  },
  {
   "cell_type": "code",
   "execution_count": 2,
   "metadata": {},
   "outputs": [],
   "source": [
    "import random\n",
    "\n",
    "def stdDev(X):\n",
    "    \"\"\"Assumes X is a list of numbers,\n",
    "       Returns the standard deviation of X\"\"\"\n",
    "    diffSum = 0.0\n",
    "    mean = sum(X)/len(X)\n",
    "    for x in X:\n",
    "        diffSum += (x - mean)**2\n",
    "    return diffSum ** 0.5\n"
   ]
  },
  {
   "cell_type": "markdown",
   "metadata": {},
   "source": [
    "## The class `VolleyballMatch`\n",
    "\n",
    "Here we write an implementation of a class that simulates a single match. Each team is awarded a probability of winning a rally when that team is serving (this is of course dependent which the opposing team is).\n",
    "\n",
    "We are making the not completely realistic assumption that each rally is an independent event.\n",
    "\n"
   ]
  },
  {
   "cell_type": "code",
   "execution_count": 3,
   "metadata": {},
   "outputs": [],
   "source": [
    "class VolleyballMatch:\n",
    "    def __init__(self, scoringClass, teamAProb, teamBProb): #2 scoring classes Old/New\n",
    "        \"\"\"scoringClass is a subclass of Set,\n",
    "           teamAProb, teamBProb are the probabilities of respectively winning\n",
    "           a rally when it is serving\"\"\"\n",
    "        self.scoringClass = scoringClass   # either OldSet or NewSet\n",
    "        self.probs = (teamAProb, teamBProb)\n",
    "        self.sets = []                     # a list of the sets of the match\n",
    "        self.server = random.choice([0,1]) # who is serving\n",
    "        self.score = [0,0]                 # the score (in sets)\n",
    "\n",
    "    def play(self):\n",
    "        \"\"\"Simulate one match\"\"\"\n",
    "        while max(self.score) < 3:\n",
    "            st = self.scoringClass(self.probs[0], self.probs[1], self.server)\n",
    "            w = st.play()\n",
    "            self.score[w] += 1  # winner gets score increases\n",
    "            self.sets.append(st)\n",
    "            self.server = w     # winner of last set serves in the next\n",
    "        if self.score[0] == 3:\n",
    "            return 0            # first team wins\n",
    "        else:\n",
    "            return 1            # second team wins\n",
    "\n",
    "    def __str__(self):\n",
    "        \"\"\"Print out the score of the match (after it is played)\"\"\"\n",
    "        sets = \"{}-{}\".format(self.score[0], self.score[1])\n",
    "        points = \"\"\n",
    "        for st in self.sets:\n",
    "            points = points + \"{}-{},\".format(st.score[0], st.score[1])\n",
    "        return sets + \" (\" + points[:-1] + \")\"\n"
   ]
  },
  {
   "cell_type": "markdown",
   "metadata": {},
   "source": [
    "## The class `Set`\n",
    "\n",
    "Next we simulate the playing of a single set in a match. We have a common superclass `Set` with subclasses `OldSet` for the old scoring method, and `NewSet` for the new scoring method.\n",
    "\n"
   ]
  },
  {
   "cell_type": "code",
   "execution_count": 4,
   "metadata": {},
   "outputs": [],
   "source": [
    "class Set:\n",
    "    def __init__(self, teamAProb, teamBProb, server):\n",
    "        self.probs = (teamAProb, teamBProb)\n",
    "        self.score = [0,0]\n",
    "        self.points = [] # A list of who is the winner of a point\n",
    "        self.server = server\n",
    "\n",
    "\n",
    "class NewSet(Set):\n",
    "    def play(self):\n",
    "        \"\"\"Play a set with new scoring\"\"\"\n",
    "        while True:\n",
    "            if random.random() < self.probs[self.server]:#random.random() generates rand no. between 0.0 and 1.0\n",
    "                # the server wins\n",
    "                self.points.append(self.server)\n",
    "                self.score[self.server] += 1\n",
    "                self.points.append(self.server)\n",
    "            else:\n",
    "                # the server loses\n",
    "                self.points.append(1-self.server)\n",
    "                self.score[1-self.server] += 1\n",
    "                self.server = 1 - self.server\n",
    "                self.points.append(1-self.server)\n",
    "            # has anyone won?\n",
    "            if max(self.score) >= 25 and abs(self.score[0] - self.score[1]) >=2:\n",
    "                # one team has reached at least 25 and leads with two points.\n",
    "                break\n",
    "        if self.score[0] > self.score[1]:\n",
    "            return 0\n",
    "        else:\n",
    "            return 1\n",
    "\n",
    "\n",
    "class OldSet(Set):\n",
    "    def play(self):\n",
    "        \"\"\"Play a set with the old scoring\"\"\"\n",
    "        while True:\n",
    "            if random.random() < self.probs[self.server]:\n",
    "                #server wins\n",
    "                self.points.append(self.server)\n",
    "                self.score[self.server] += 1\n",
    "                self.points.append(self.server)\n",
    "            \n",
    "            else:\n",
    "                # server loses\n",
    "                self.server = 1 - self.server\n",
    "            \n",
    "            if max(self.score) >= 15:\n",
    "                break\n",
    "                \n",
    "        if self.score[0] > self.score[1]:\n",
    "            return 0\n",
    "        else:\n",
    "            return 1\n",
    "            "
   ]
  },
  {
   "cell_type": "code",
   "execution_count": 5,
   "metadata": {},
   "outputs": [
    {
     "name": "stdout",
     "output_type": "stream",
     "text": [
      "1-3 (10-15,15-2,11-15,13-15)\n"
     ]
    }
   ],
   "source": [
    "match = VolleyballMatch(OldSet,0.5,0.5)\n",
    "match.play()\n",
    "print(match)\n",
    "\n",
    "\n"
   ]
  },
  {
   "cell_type": "markdown",
   "metadata": {},
   "source": [
    "## Simulate a single match\n",
    "\n",
    "Now, we should be able to simulate a single match. (Note that in constrast to many other sports, the serving team is at a [disadvantage in Volleyball](https://fivethirtyeight.com/features/serving-is-a-disadvantage-in-some-olympic-sports/).\n"
   ]
  },
  {
   "cell_type": "code",
   "execution_count": 6,
   "metadata": {},
   "outputs": [
    {
     "name": "stdout",
     "output_type": "stream",
     "text": [
      "2-3 (21-25,25-19,28-26,29-31,17-25)\n"
     ]
    }
   ],
   "source": [
    "def simMatch(scClass, probA, probB):\n",
    "    \"\"\"Simulate a single match with the given probabilities of winning the serve\"\"\"\n",
    "    match = VolleyballMatch(NewSet, probA, probB)\n",
    "    match.play()\n",
    "    print(match)\n",
    "\n",
    "simMatch(NewSet, 0.36, 0.32)"
   ]
  },
  {
   "cell_type": "markdown",
   "metadata": {},
   "source": [
    "## Simulate a series of matches\n",
    "\n",
    "Next we simulate a number of trials each consisting of a number of matches, both under the old and the new scoring systems."
   ]
  },
  {
   "cell_type": "code",
   "execution_count": 7,
   "metadata": {},
   "outputs": [],
   "source": [
    "def simAll(scoringClasses, probA, probB, numMatches, numTrials):\n",
    "    \"\"\"Simulates numTrials runs of numMatches matches with given probabilities and scoring\"\"\"\n",
    "    for scClass in scoringClasses:\n",
    "        teamAWins = [] # The list of frequencies of matches won by team A in the different trials\n",
    "        for i in range(numTrials):\n",
    "            # play numMatches matches.\n",
    "            aWins = 0\n",
    "            # Simulate numMatches matches\n",
    "            match = VolleyballMatch(scClass, probA, probB)\n",
    "            for i in range(numMatches):\n",
    "                if match.play() == 0:\n",
    "                    aWins += 1\n",
    "           # print(aWins)\n",
    "            teamAWins.append(aWins/numMatches)\n",
    "        #print(\"{}: Team A winning frequency:  mean: {:.4f}, std. dev.: {:.4f}\".format(scClass.__name__, sum(teamAWins)/numTrials, stdDev(teamAWins)))\n",
    "        if len(scoringClasses)>1:\n",
    "            return sum(teamAWins)/numTrials, simAll([scoringClasses[-1]], probA, probB, numMatches, numTrials)\n",
    "        else:\n",
    "            return sum(teamAWins)/numTrials\n",
    "        \n"
   ]
  },
  {
   "cell_type": "code",
   "execution_count": 8,
   "metadata": {},
   "outputs": [
    {
     "name": "stdout",
     "output_type": "stream",
     "text": [
      "(13, 12)\n",
      "(12, 13)\n",
      "(14, 11)\n",
      "(9, 16)\n",
      "(9, 16)\n",
      "(13, 12)\n",
      "(12, 13)\n",
      "(8, 17)\n",
      "(9, 16)\n",
      "(12, 13)\n"
     ]
    }
   ],
   "source": [
    "def OldvsNew(probA,probB):\n",
    "    list = []\n",
    "    Oldteam = 0\n",
    "    Newteam = 0\n",
    "    for i in range(25):\n",
    "        for i in simAll([OldSet, NewSet], probA,probB ,2000, 100):\n",
    "            list.append(i)\n",
    "            if len(list)<=1:\n",
    "                pass\n",
    "            else:\n",
    "                if list[0]>list[-1]:\n",
    "                    Oldteam += 1\n",
    "                else:\n",
    "                    Newteam +=1\n",
    "                list = []\n",
    "    return(Oldteam,Newteam)\n",
    "\n",
    "\n",
    "for i in range(10):\n",
    "    print(OldvsNew(0.5,0.5))   \n",
    "\n",
    "    \n",
    "\n"
   ]
  },
  {
   "cell_type": "code",
   "execution_count": 10,
   "metadata": {},
   "outputs": [
    {
     "data": {
      "text/plain": [
       "(0.52, 0.55)"
      ]
     },
     "execution_count": 10,
     "metadata": {},
     "output_type": "execute_result"
    }
   ],
   "source": [
    "simAll([OldSet, NewSet], 0.5,0.5 ,2000, 100)"
   ]
  },
  {
   "cell_type": "code",
   "execution_count": null,
   "metadata": {},
   "outputs": [],
   "source": []
  }
 ],
 "metadata": {
  "kernelspec": {
   "display_name": "Python 3 (ipykernel)",
   "language": "python",
   "name": "python3"
  },
  "language_info": {
   "codemirror_mode": {
    "name": "ipython",
    "version": 3
   },
   "file_extension": ".py",
   "mimetype": "text/x-python",
   "name": "python",
   "nbconvert_exporter": "python",
   "pygments_lexer": "ipython3",
   "version": "3.9.12"
  }
 },
 "nbformat": 4,
 "nbformat_minor": 2
}
